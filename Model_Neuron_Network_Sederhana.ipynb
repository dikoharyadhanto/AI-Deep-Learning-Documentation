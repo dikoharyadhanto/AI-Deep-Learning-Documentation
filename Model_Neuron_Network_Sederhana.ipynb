{
  "nbformat": 4,
  "nbformat_minor": 0,
  "metadata": {
    "colab": {
      "name": "Model Neuron Network Sederhana.ipynb",
      "provenance": [],
      "authorship_tag": "ABX9TyOXuMzhab3ABcQ6EVUb7GMI",
      "include_colab_link": true
    },
    "kernelspec": {
      "name": "python3",
      "display_name": "Python 3"
    },
    "language_info": {
      "name": "python"
    }
  },
  "cells": [
    {
      "cell_type": "markdown",
      "metadata": {
        "id": "view-in-github",
        "colab_type": "text"
      },
      "source": [
        "<a href=\"https://colab.research.google.com/github/dikoharyadhanto/AI-Deep-Learning-Documentation/blob/main/Model_Neuron_Network_Sederhana.ipynb\" target=\"_parent\"><img src=\"https://colab.research.google.com/assets/colab-badge.svg\" alt=\"Open In Colab\"/></a>"
      ]
    },
    {
      "cell_type": "markdown",
      "metadata": {
        "id": "LRAojoVMfm_m"
      },
      "source": [
        "# **Menggunakan Model untuk Melakukan Prediksi**"
      ]
    },
    {
      "cell_type": "markdown",
      "metadata": {
        "id": "iEriuPv2fd0J"
      },
      "source": [
        "Kita akan membuat model untuk memprediksi persamaan linear sederhana di mana, atributnya adalah sebuah bilangan X, dan labelnya bernilai 2X+2. \n",
        "\n"
      ]
    },
    {
      "cell_type": "markdown",
      "metadata": {
        "id": "tBfBJpuyfkkb"
      },
      "source": [
        "Sebuah model dari API keras dapat menerima masukan dengan tipe data numpy array. Sehingga kita bisa membuat 2 buah objek bertipe numpy array, satu untuk atribut dan satu sebagai labelnya."
      ]
    },
    {
      "cell_type": "markdown",
      "metadata": {
        "id": "5pjHr3M0hBWz"
      },
      "source": [
        "## **Persiapan Dataset dan Import Library**"
      ]
    },
    {
      "cell_type": "code",
      "metadata": {
        "id": "oKTNaje1fpl2"
      },
      "source": [
        "import tensorflow as tf\n",
        "import numpy as np\n",
        "from tensorflow import keras"
      ],
      "execution_count": 1,
      "outputs": []
    },
    {
      "cell_type": "code",
      "metadata": {
        "id": "p3Qp7lfufZyC"
      },
      "source": [
        "xs = np.array([1.0,  2.0, 3.0, 4.0, 5.0, 6.0], dtype=float)\n",
        "ys = np.array([4.0, 6.0, 8.0, 10.0, 12.0, 14.0], dtype=float)"
      ],
      "execution_count": 2,
      "outputs": []
    },
    {
      "cell_type": "markdown",
      "metadata": {
        "id": "oBkmdtkfgWAP"
      },
      "source": [
        "## **Membuat Model Sequential**\n",
        "\n"
      ]
    },
    {
      "cell_type": "markdown",
      "metadata": {
        "id": "BE4lBdS4o7IS"
      },
      "source": [
        "### **Dengan Satu Layer**"
      ]
    },
    {
      "cell_type": "code",
      "metadata": {
        "id": "0ynwAMVRf9DE"
      },
      "source": [
        "model = tf.keras.Sequential([keras.layers.Dense(units=1, input_shape=[1])])"
      ],
      "execution_count": 3,
      "outputs": []
    },
    {
      "cell_type": "markdown",
      "metadata": {
        "id": "4UZJu3Gwo_I2"
      },
      "source": [
        "### **Dengan 3 Layer**"
      ]
    },
    {
      "cell_type": "code",
      "metadata": {
        "id": "6cQd5J1wo50x"
      },
      "source": [
        "model = tf.keras.Sequential([\n",
        "                             keras.layers.Dense(units=1, input_shape=[1]),\n",
        "                             keras.layers.Dense(units=8),\n",
        "                             keras.layers.Dense(units=1)])"
      ],
      "execution_count": 4,
      "outputs": []
    },
    {
      "cell_type": "markdown",
      "metadata": {
        "id": "2l4sbn8ygZ6d"
      },
      "source": [
        "## **Menentukan Optimizer dan Loss dari Model**"
      ]
    },
    {
      "cell_type": "code",
      "metadata": {
        "id": "EOk7lSbkggNx"
      },
      "source": [
        "model.compile(optimizer='sgd', loss='mean_squared_error')"
      ],
      "execution_count": 5,
      "outputs": []
    },
    {
      "cell_type": "markdown",
      "metadata": {
        "id": "KTxXuPbbgmY2"
      },
      "source": [
        "## **Pelatihan Model**"
      ]
    },
    {
      "cell_type": "code",
      "metadata": {
        "colab": {
          "base_uri": "https://localhost:8080/"
        },
        "id": "7IE6xY-Jgo5E",
        "outputId": "b657ca49-fab6-431a-d716-1ca70fa474c0"
      },
      "source": [
        "model.fit(xs, ys, epochs=150)"
      ],
      "execution_count": 6,
      "outputs": [
        {
          "output_type": "stream",
          "name": "stdout",
          "text": [
            "Epoch 1/150\n",
            "1/1 [==============================] - 1s 654ms/step - loss: 28.7538\n",
            "Epoch 2/150\n",
            "1/1 [==============================] - 0s 4ms/step - loss: 318.7156\n",
            "Epoch 3/150\n",
            "1/1 [==============================] - 0s 6ms/step - loss: 17917.2383\n",
            "Epoch 4/150\n",
            "1/1 [==============================] - 0s 7ms/step - loss: 18555040956416.0000\n",
            "Epoch 5/150\n",
            "1/1 [==============================] - 0s 5ms/step - loss: inf\n",
            "Epoch 6/150\n",
            "1/1 [==============================] - 0s 18ms/step - loss: nan\n",
            "Epoch 7/150\n",
            "1/1 [==============================] - 0s 6ms/step - loss: nan\n",
            "Epoch 8/150\n",
            "1/1 [==============================] - 0s 6ms/step - loss: nan\n",
            "Epoch 9/150\n",
            "1/1 [==============================] - 0s 17ms/step - loss: nan\n",
            "Epoch 10/150\n",
            "1/1 [==============================] - 0s 5ms/step - loss: nan\n",
            "Epoch 11/150\n",
            "1/1 [==============================] - 0s 6ms/step - loss: nan\n",
            "Epoch 12/150\n",
            "1/1 [==============================] - 0s 9ms/step - loss: nan\n",
            "Epoch 13/150\n",
            "1/1 [==============================] - 0s 8ms/step - loss: nan\n",
            "Epoch 14/150\n",
            "1/1 [==============================] - 0s 5ms/step - loss: nan\n",
            "Epoch 15/150\n",
            "1/1 [==============================] - 0s 10ms/step - loss: nan\n",
            "Epoch 16/150\n",
            "1/1 [==============================] - 0s 15ms/step - loss: nan\n",
            "Epoch 17/150\n",
            "1/1 [==============================] - 0s 11ms/step - loss: nan\n",
            "Epoch 18/150\n",
            "1/1 [==============================] - 0s 6ms/step - loss: nan\n",
            "Epoch 19/150\n",
            "1/1 [==============================] - 0s 5ms/step - loss: nan\n",
            "Epoch 20/150\n",
            "1/1 [==============================] - 0s 6ms/step - loss: nan\n",
            "Epoch 21/150\n",
            "1/1 [==============================] - 0s 4ms/step - loss: nan\n",
            "Epoch 22/150\n",
            "1/1 [==============================] - 0s 5ms/step - loss: nan\n",
            "Epoch 23/150\n",
            "1/1 [==============================] - 0s 5ms/step - loss: nan\n",
            "Epoch 24/150\n",
            "1/1 [==============================] - 0s 6ms/step - loss: nan\n",
            "Epoch 25/150\n",
            "1/1 [==============================] - 0s 5ms/step - loss: nan\n",
            "Epoch 26/150\n",
            "1/1 [==============================] - 0s 5ms/step - loss: nan\n",
            "Epoch 27/150\n",
            "1/1 [==============================] - 0s 12ms/step - loss: nan\n",
            "Epoch 28/150\n",
            "1/1 [==============================] - 0s 5ms/step - loss: nan\n",
            "Epoch 29/150\n",
            "1/1 [==============================] - 0s 8ms/step - loss: nan\n",
            "Epoch 30/150\n",
            "1/1 [==============================] - 0s 8ms/step - loss: nan\n",
            "Epoch 31/150\n",
            "1/1 [==============================] - 0s 6ms/step - loss: nan\n",
            "Epoch 32/150\n",
            "1/1 [==============================] - 0s 6ms/step - loss: nan\n",
            "Epoch 33/150\n",
            "1/1 [==============================] - 0s 7ms/step - loss: nan\n",
            "Epoch 34/150\n",
            "1/1 [==============================] - 0s 7ms/step - loss: nan\n",
            "Epoch 35/150\n",
            "1/1 [==============================] - 0s 5ms/step - loss: nan\n",
            "Epoch 36/150\n",
            "1/1 [==============================] - 0s 5ms/step - loss: nan\n",
            "Epoch 37/150\n",
            "1/1 [==============================] - 0s 5ms/step - loss: nan\n",
            "Epoch 38/150\n",
            "1/1 [==============================] - 0s 6ms/step - loss: nan\n",
            "Epoch 39/150\n",
            "1/1 [==============================] - 0s 6ms/step - loss: nan\n",
            "Epoch 40/150\n",
            "1/1 [==============================] - 0s 7ms/step - loss: nan\n",
            "Epoch 41/150\n",
            "1/1 [==============================] - 0s 4ms/step - loss: nan\n",
            "Epoch 42/150\n",
            "1/1 [==============================] - 0s 5ms/step - loss: nan\n",
            "Epoch 43/150\n",
            "1/1 [==============================] - 0s 6ms/step - loss: nan\n",
            "Epoch 44/150\n",
            "1/1 [==============================] - 0s 8ms/step - loss: nan\n",
            "Epoch 45/150\n",
            "1/1 [==============================] - 0s 6ms/step - loss: nan\n",
            "Epoch 46/150\n",
            "1/1 [==============================] - 0s 7ms/step - loss: nan\n",
            "Epoch 47/150\n",
            "1/1 [==============================] - 0s 5ms/step - loss: nan\n",
            "Epoch 48/150\n",
            "1/1 [==============================] - 0s 5ms/step - loss: nan\n",
            "Epoch 49/150\n",
            "1/1 [==============================] - 0s 10ms/step - loss: nan\n",
            "Epoch 50/150\n",
            "1/1 [==============================] - 0s 6ms/step - loss: nan\n",
            "Epoch 51/150\n",
            "1/1 [==============================] - 0s 10ms/step - loss: nan\n",
            "Epoch 52/150\n",
            "1/1 [==============================] - 0s 7ms/step - loss: nan\n",
            "Epoch 53/150\n",
            "1/1 [==============================] - 0s 5ms/step - loss: nan\n",
            "Epoch 54/150\n",
            "1/1 [==============================] - 0s 8ms/step - loss: nan\n",
            "Epoch 55/150\n",
            "1/1 [==============================] - 0s 4ms/step - loss: nan\n",
            "Epoch 56/150\n",
            "1/1 [==============================] - 0s 4ms/step - loss: nan\n",
            "Epoch 57/150\n",
            "1/1 [==============================] - 0s 4ms/step - loss: nan\n",
            "Epoch 58/150\n",
            "1/1 [==============================] - 0s 4ms/step - loss: nan\n",
            "Epoch 59/150\n",
            "1/1 [==============================] - 0s 4ms/step - loss: nan\n",
            "Epoch 60/150\n",
            "1/1 [==============================] - 0s 7ms/step - loss: nan\n",
            "Epoch 61/150\n",
            "1/1 [==============================] - 0s 5ms/step - loss: nan\n",
            "Epoch 62/150\n",
            "1/1 [==============================] - 0s 5ms/step - loss: nan\n",
            "Epoch 63/150\n",
            "1/1 [==============================] - 0s 5ms/step - loss: nan\n",
            "Epoch 64/150\n",
            "1/1 [==============================] - 0s 4ms/step - loss: nan\n",
            "Epoch 65/150\n",
            "1/1 [==============================] - 0s 6ms/step - loss: nan\n",
            "Epoch 66/150\n",
            "1/1 [==============================] - 0s 4ms/step - loss: nan\n",
            "Epoch 67/150\n",
            "1/1 [==============================] - 0s 4ms/step - loss: nan\n",
            "Epoch 68/150\n",
            "1/1 [==============================] - 0s 4ms/step - loss: nan\n",
            "Epoch 69/150\n",
            "1/1 [==============================] - 0s 6ms/step - loss: nan\n",
            "Epoch 70/150\n",
            "1/1 [==============================] - 0s 5ms/step - loss: nan\n",
            "Epoch 71/150\n",
            "1/1 [==============================] - 0s 4ms/step - loss: nan\n",
            "Epoch 72/150\n",
            "1/1 [==============================] - 0s 4ms/step - loss: nan\n",
            "Epoch 73/150\n",
            "1/1 [==============================] - 0s 4ms/step - loss: nan\n",
            "Epoch 74/150\n",
            "1/1 [==============================] - 0s 5ms/step - loss: nan\n",
            "Epoch 75/150\n",
            "1/1 [==============================] - 0s 4ms/step - loss: nan\n",
            "Epoch 76/150\n",
            "1/1 [==============================] - 0s 6ms/step - loss: nan\n",
            "Epoch 77/150\n",
            "1/1 [==============================] - 0s 5ms/step - loss: nan\n",
            "Epoch 78/150\n",
            "1/1 [==============================] - 0s 5ms/step - loss: nan\n",
            "Epoch 79/150\n",
            "1/1 [==============================] - 0s 7ms/step - loss: nan\n",
            "Epoch 80/150\n",
            "1/1 [==============================] - 0s 4ms/step - loss: nan\n",
            "Epoch 81/150\n",
            "1/1 [==============================] - 0s 4ms/step - loss: nan\n",
            "Epoch 82/150\n",
            "1/1 [==============================] - 0s 4ms/step - loss: nan\n",
            "Epoch 83/150\n",
            "1/1 [==============================] - 0s 4ms/step - loss: nan\n",
            "Epoch 84/150\n",
            "1/1 [==============================] - 0s 4ms/step - loss: nan\n",
            "Epoch 85/150\n",
            "1/1 [==============================] - 0s 5ms/step - loss: nan\n",
            "Epoch 86/150\n",
            "1/1 [==============================] - 0s 4ms/step - loss: nan\n",
            "Epoch 87/150\n",
            "1/1 [==============================] - 0s 4ms/step - loss: nan\n",
            "Epoch 88/150\n",
            "1/1 [==============================] - 0s 5ms/step - loss: nan\n",
            "Epoch 89/150\n",
            "1/1 [==============================] - 0s 4ms/step - loss: nan\n",
            "Epoch 90/150\n",
            "1/1 [==============================] - 0s 4ms/step - loss: nan\n",
            "Epoch 91/150\n",
            "1/1 [==============================] - 0s 4ms/step - loss: nan\n",
            "Epoch 92/150\n",
            "1/1 [==============================] - 0s 12ms/step - loss: nan\n",
            "Epoch 93/150\n",
            "1/1 [==============================] - 0s 5ms/step - loss: nan\n",
            "Epoch 94/150\n",
            "1/1 [==============================] - 0s 7ms/step - loss: nan\n",
            "Epoch 95/150\n",
            "1/1 [==============================] - 0s 7ms/step - loss: nan\n",
            "Epoch 96/150\n",
            "1/1 [==============================] - 0s 5ms/step - loss: nan\n",
            "Epoch 97/150\n",
            "1/1 [==============================] - 0s 8ms/step - loss: nan\n",
            "Epoch 98/150\n",
            "1/1 [==============================] - 0s 5ms/step - loss: nan\n",
            "Epoch 99/150\n",
            "1/1 [==============================] - 0s 5ms/step - loss: nan\n",
            "Epoch 100/150\n",
            "1/1 [==============================] - 0s 5ms/step - loss: nan\n",
            "Epoch 101/150\n",
            "1/1 [==============================] - 0s 5ms/step - loss: nan\n",
            "Epoch 102/150\n",
            "1/1 [==============================] - 0s 6ms/step - loss: nan\n",
            "Epoch 103/150\n",
            "1/1 [==============================] - 0s 10ms/step - loss: nan\n",
            "Epoch 104/150\n",
            "1/1 [==============================] - 0s 11ms/step - loss: nan\n",
            "Epoch 105/150\n",
            "1/1 [==============================] - 0s 4ms/step - loss: nan\n",
            "Epoch 106/150\n",
            "1/1 [==============================] - 0s 4ms/step - loss: nan\n",
            "Epoch 107/150\n",
            "1/1 [==============================] - 0s 4ms/step - loss: nan\n",
            "Epoch 108/150\n",
            "1/1 [==============================] - 0s 4ms/step - loss: nan\n",
            "Epoch 109/150\n",
            "1/1 [==============================] - 0s 5ms/step - loss: nan\n",
            "Epoch 110/150\n",
            "1/1 [==============================] - 0s 5ms/step - loss: nan\n",
            "Epoch 111/150\n",
            "1/1 [==============================] - 0s 4ms/step - loss: nan\n",
            "Epoch 112/150\n",
            "1/1 [==============================] - 0s 7ms/step - loss: nan\n",
            "Epoch 113/150\n",
            "1/1 [==============================] - 0s 7ms/step - loss: nan\n",
            "Epoch 114/150\n",
            "1/1 [==============================] - 0s 12ms/step - loss: nan\n",
            "Epoch 115/150\n",
            "1/1 [==============================] - 0s 7ms/step - loss: nan\n",
            "Epoch 116/150\n",
            "1/1 [==============================] - 0s 4ms/step - loss: nan\n",
            "Epoch 117/150\n",
            "1/1 [==============================] - 0s 20ms/step - loss: nan\n",
            "Epoch 118/150\n",
            "1/1 [==============================] - 0s 8ms/step - loss: nan\n",
            "Epoch 119/150\n",
            "1/1 [==============================] - 0s 9ms/step - loss: nan\n",
            "Epoch 120/150\n",
            "1/1 [==============================] - 0s 10ms/step - loss: nan\n",
            "Epoch 121/150\n",
            "1/1 [==============================] - 0s 4ms/step - loss: nan\n",
            "Epoch 122/150\n",
            "1/1 [==============================] - 0s 4ms/step - loss: nan\n",
            "Epoch 123/150\n",
            "1/1 [==============================] - 0s 10ms/step - loss: nan\n",
            "Epoch 124/150\n",
            "1/1 [==============================] - 0s 5ms/step - loss: nan\n",
            "Epoch 125/150\n",
            "1/1 [==============================] - 0s 5ms/step - loss: nan\n",
            "Epoch 126/150\n",
            "1/1 [==============================] - 0s 5ms/step - loss: nan\n",
            "Epoch 127/150\n",
            "1/1 [==============================] - 0s 8ms/step - loss: nan\n",
            "Epoch 128/150\n",
            "1/1 [==============================] - 0s 6ms/step - loss: nan\n",
            "Epoch 129/150\n",
            "1/1 [==============================] - 0s 6ms/step - loss: nan\n",
            "Epoch 130/150\n",
            "1/1 [==============================] - 0s 7ms/step - loss: nan\n",
            "Epoch 131/150\n",
            "1/1 [==============================] - 0s 9ms/step - loss: nan\n",
            "Epoch 132/150\n",
            "1/1 [==============================] - 0s 6ms/step - loss: nan\n",
            "Epoch 133/150\n",
            "1/1 [==============================] - 0s 5ms/step - loss: nan\n",
            "Epoch 134/150\n",
            "1/1 [==============================] - 0s 8ms/step - loss: nan\n",
            "Epoch 135/150\n",
            "1/1 [==============================] - 0s 8ms/step - loss: nan\n",
            "Epoch 136/150\n",
            "1/1 [==============================] - 0s 5ms/step - loss: nan\n",
            "Epoch 137/150\n",
            "1/1 [==============================] - 0s 15ms/step - loss: nan\n",
            "Epoch 138/150\n",
            "1/1 [==============================] - 0s 14ms/step - loss: nan\n",
            "Epoch 139/150\n",
            "1/1 [==============================] - 0s 23ms/step - loss: nan\n",
            "Epoch 140/150\n",
            "1/1 [==============================] - 0s 15ms/step - loss: nan\n",
            "Epoch 141/150\n",
            "1/1 [==============================] - 0s 7ms/step - loss: nan\n",
            "Epoch 142/150\n",
            "1/1 [==============================] - 0s 7ms/step - loss: nan\n",
            "Epoch 143/150\n",
            "1/1 [==============================] - 0s 17ms/step - loss: nan\n",
            "Epoch 144/150\n",
            "1/1 [==============================] - 0s 13ms/step - loss: nan\n",
            "Epoch 145/150\n",
            "1/1 [==============================] - 0s 19ms/step - loss: nan\n",
            "Epoch 146/150\n",
            "1/1 [==============================] - 0s 14ms/step - loss: nan\n",
            "Epoch 147/150\n",
            "1/1 [==============================] - 0s 9ms/step - loss: nan\n",
            "Epoch 148/150\n",
            "1/1 [==============================] - 0s 6ms/step - loss: nan\n",
            "Epoch 149/150\n",
            "1/1 [==============================] - 0s 10ms/step - loss: nan\n",
            "Epoch 150/150\n",
            "1/1 [==============================] - 0s 5ms/step - loss: nan\n"
          ]
        },
        {
          "output_type": "execute_result",
          "data": {
            "text/plain": [
              "<keras.callbacks.History at 0x7f30848d89d0>"
            ]
          },
          "metadata": {},
          "execution_count": 6
        }
      ]
    },
    {
      "cell_type": "markdown",
      "metadata": {
        "id": "kdmA-fHbgoYV"
      },
      "source": [
        "### **Menggunakan Model Untuk Memprediksi Data**"
      ]
    },
    {
      "cell_type": "code",
      "metadata": {
        "colab": {
          "base_uri": "https://localhost:8080/"
        },
        "id": "GZRtwiPwhLUd",
        "outputId": "4c537855-4b82-4d08-93fd-050ee4eb8d8c"
      },
      "source": [
        "print(model.predict([10.0]))"
      ],
      "execution_count": 7,
      "outputs": [
        {
          "output_type": "stream",
          "name": "stdout",
          "text": [
            "[[nan]]\n"
          ]
        }
      ]
    }
  ]
}
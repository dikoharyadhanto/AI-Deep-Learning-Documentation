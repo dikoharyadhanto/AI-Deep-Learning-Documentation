{
  "nbformat": 4,
  "nbformat_minor": 0,
  "metadata": {
    "colab": {
      "name": "Callback.ipynb",
      "provenance": [],
      "mount_file_id": "1gEzR2rHuJS8ry-hYDC59YAQe_9MDryzP",
      "authorship_tag": "ABX9TyOvyDOtx04vScz5hctCsYH7",
      "include_colab_link": true
    },
    "kernelspec": {
      "name": "python3",
      "display_name": "Python 3"
    },
    "language_info": {
      "name": "python"
    }
  },
  "cells": [
    {
      "cell_type": "markdown",
      "metadata": {
        "id": "view-in-github",
        "colab_type": "text"
      },
      "source": [
        "<a href=\"https://colab.research.google.com/github/dikoharyadhanto/AI-Deep-Learning-Documentation/blob/main/Callback.ipynb\" target=\"_parent\"><img src=\"https://colab.research.google.com/assets/colab-badge.svg\" alt=\"Open In Colab\"/></a>"
      ]
    },
    {
      "cell_type": "markdown",
      "metadata": {
        "id": "ePwpQAEfNta_"
      },
      "source": [
        "# **Penggunaan Callback**"
      ]
    },
    {
      "cell_type": "code",
      "metadata": {
        "id": "C9CDQUhhMFwy"
      },
      "source": [
        "import os\n",
        "os.environ['KAGGLE_CONFIG_DIR'] = '/content/drive/MyDrive/Kaggle'"
      ],
      "execution_count": 1,
      "outputs": []
    },
    {
      "cell_type": "code",
      "metadata": {
        "colab": {
          "base_uri": "https://localhost:8080/"
        },
        "id": "ZUW90zyAMGee",
        "outputId": "65e6adc2-2fa8-478a-eb79-08f40f7270ae"
      },
      "source": [
        "!kaggle datasets download -d uciml/iris"
      ],
      "execution_count": 2,
      "outputs": [
        {
          "output_type": "stream",
          "name": "stdout",
          "text": [
            "Downloading iris.zip to /content\n",
            "\r  0% 0.00/3.60k [00:00<?, ?B/s]\n",
            "\r100% 3.60k/3.60k [00:00<00:00, 5.38MB/s]\n"
          ]
        }
      ]
    },
    {
      "cell_type": "code",
      "metadata": {
        "id": "nMZ1_JPgMIPf"
      },
      "source": [
        "!unzip -q iris.zip -d ."
      ],
      "execution_count": 3,
      "outputs": []
    },
    {
      "cell_type": "code",
      "metadata": {
        "colab": {
          "base_uri": "https://localhost:8080/"
        },
        "id": "qbNIH8KjMOwM",
        "outputId": "345b33f1-a76b-4c27-a9c6-e6caef1bfc7a"
      },
      "source": [
        "from google.colab import drive\n",
        "drive.mount('/content/drive')"
      ],
      "execution_count": 4,
      "outputs": [
        {
          "output_type": "stream",
          "name": "stdout",
          "text": [
            "Drive already mounted at /content/drive; to attempt to forcibly remount, call drive.mount(\"/content/drive\", force_remount=True).\n"
          ]
        }
      ]
    },
    {
      "cell_type": "code",
      "metadata": {
        "id": "J4y_BAS_N1Xt"
      },
      "source": [
        "import tensorflow as tf\n",
        "import pandas as pd\n",
        "from sklearn import preprocessing\n",
        "from sklearn.model_selection import train_test_split\n",
        "from keras.models import Sequential\n",
        "from keras.layers import Dense"
      ],
      "execution_count": 5,
      "outputs": []
    },
    {
      "cell_type": "code",
      "metadata": {
        "id": "9qUdPGUXN33M"
      },
      "source": [
        "df = pd.read_csv('Iris.csv')"
      ],
      "execution_count": 6,
      "outputs": []
    },
    {
      "cell_type": "code",
      "metadata": {
        "id": "8ezA71FDN50Z"
      },
      "source": [
        "df = df.drop(columns='Id')"
      ],
      "execution_count": 7,
      "outputs": []
    },
    {
      "cell_type": "code",
      "metadata": {
        "id": "sw92F_o4N9r_"
      },
      "source": [
        "category = pd.get_dummies(df.Species)"
      ],
      "execution_count": 8,
      "outputs": []
    },
    {
      "cell_type": "code",
      "metadata": {
        "id": "5-fnId1DN_Jf"
      },
      "source": [
        "new_df = pd.concat([df, category], axis=1)\n",
        "new_df = new_df.drop(columns='Species')"
      ],
      "execution_count": 9,
      "outputs": []
    },
    {
      "cell_type": "code",
      "metadata": {
        "id": "SRpj3fQVOAy-"
      },
      "source": [
        "dataset = new_df.values"
      ],
      "execution_count": 10,
      "outputs": []
    },
    {
      "cell_type": "code",
      "metadata": {
        "id": "SdinzM7iOGyz"
      },
      "source": [
        "X = dataset[:,0:4]\n",
        "y = dataset[:,4:7]"
      ],
      "execution_count": 11,
      "outputs": []
    },
    {
      "cell_type": "code",
      "metadata": {
        "id": "ZbO-ne_FOKPh"
      },
      "source": [
        "min_max_scaler = preprocessing.MinMaxScaler()\n",
        "X_scale = min_max_scaler.fit_transform(X)"
      ],
      "execution_count": 12,
      "outputs": []
    },
    {
      "cell_type": "code",
      "metadata": {
        "id": "9AMrLp3EOME5"
      },
      "source": [
        "X_train, X_test, Y_train, Y_test = train_test_split(X_scale, y, test_size=0.3)"
      ],
      "execution_count": 13,
      "outputs": []
    },
    {
      "cell_type": "code",
      "metadata": {
        "id": "zjQotgeuOOq_"
      },
      "source": [
        "model = Sequential([    \n",
        "                    Dense(64, activation='relu', input_shape=(4,)),    \n",
        "                    Dense(64, activation='relu'),    \n",
        "                    Dense(3, activation='sigmoid'),])"
      ],
      "execution_count": 14,
      "outputs": []
    },
    {
      "cell_type": "code",
      "metadata": {
        "id": "4K9L0sdGNzL4"
      },
      "source": [
        "model.compile(optimizer='Adam',\n",
        "              loss='categorical_crossentropy',\n",
        "              metrics=['accuracy'])"
      ],
      "execution_count": 15,
      "outputs": []
    },
    {
      "cell_type": "code",
      "metadata": {
        "id": "HhIc0OF1Ot92"
      },
      "source": [
        "class myCallback(tf.keras.callbacks.Callback):\n",
        "  def on_epoch_end(self, epoch, logs={}):\n",
        "    if(logs.get('accuracy')>0.9):\n",
        "      print(\"\\nAkurasi telah mencapai >90%!\")\n",
        "      self.model.stop_training = True\n",
        "callbacks = myCallback()"
      ],
      "execution_count": 16,
      "outputs": []
    },
    {
      "cell_type": "code",
      "metadata": {
        "id": "xQ1gBddeOzVt",
        "colab": {
          "base_uri": "https://localhost:8080/"
        },
        "outputId": "91e7b572-0e8f-4d77-cd24-111e45a08c10"
      },
      "source": [
        "model.fit(X_train, Y_train, epochs=50, callbacks=[callbacks])"
      ],
      "execution_count": 17,
      "outputs": [
        {
          "output_type": "stream",
          "name": "stdout",
          "text": [
            "Epoch 1/50\n",
            "4/4 [==============================] - 1s 4ms/step - loss: 1.1048 - accuracy: 0.3238\n",
            "Epoch 2/50\n",
            "4/4 [==============================] - 0s 3ms/step - loss: 1.0611 - accuracy: 0.5143\n",
            "Epoch 3/50\n",
            "4/4 [==============================] - 0s 4ms/step - loss: 1.0279 - accuracy: 0.6952\n",
            "Epoch 4/50\n",
            "4/4 [==============================] - 0s 4ms/step - loss: 0.9984 - accuracy: 0.6952\n",
            "Epoch 5/50\n",
            "4/4 [==============================] - 0s 6ms/step - loss: 0.9707 - accuracy: 0.6952\n",
            "Epoch 6/50\n",
            "4/4 [==============================] - 0s 4ms/step - loss: 0.9445 - accuracy: 0.6952\n",
            "Epoch 7/50\n",
            "4/4 [==============================] - 0s 4ms/step - loss: 0.9145 - accuracy: 0.6952\n",
            "Epoch 8/50\n",
            "4/4 [==============================] - 0s 4ms/step - loss: 0.8849 - accuracy: 0.7048\n",
            "Epoch 9/50\n",
            "4/4 [==============================] - 0s 5ms/step - loss: 0.8529 - accuracy: 0.7048\n",
            "Epoch 10/50\n",
            "4/4 [==============================] - 0s 4ms/step - loss: 0.8199 - accuracy: 0.7048\n",
            "Epoch 11/50\n",
            "4/4 [==============================] - 0s 5ms/step - loss: 0.7872 - accuracy: 0.7048\n",
            "Epoch 12/50\n",
            "4/4 [==============================] - 0s 4ms/step - loss: 0.7518 - accuracy: 0.7048\n",
            "Epoch 13/50\n",
            "4/4 [==============================] - 0s 4ms/step - loss: 0.7158 - accuracy: 0.7048\n",
            "Epoch 14/50\n",
            "4/4 [==============================] - 0s 4ms/step - loss: 0.6786 - accuracy: 0.7048\n",
            "Epoch 15/50\n",
            "4/4 [==============================] - 0s 5ms/step - loss: 0.6414 - accuracy: 0.7048\n",
            "Epoch 16/50\n",
            "4/4 [==============================] - 0s 4ms/step - loss: 0.6077 - accuracy: 0.7048\n",
            "Epoch 17/50\n",
            "4/4 [==============================] - 0s 4ms/step - loss: 0.5754 - accuracy: 0.7048\n",
            "Epoch 18/50\n",
            "4/4 [==============================] - 0s 4ms/step - loss: 0.5468 - accuracy: 0.7048\n",
            "Epoch 19/50\n",
            "4/4 [==============================] - 0s 5ms/step - loss: 0.5209 - accuracy: 0.7048\n",
            "Epoch 20/50\n",
            "4/4 [==============================] - 0s 4ms/step - loss: 0.4976 - accuracy: 0.7048\n",
            "Epoch 21/50\n",
            "4/4 [==============================] - 0s 4ms/step - loss: 0.4780 - accuracy: 0.7238\n",
            "Epoch 22/50\n",
            "4/4 [==============================] - 0s 4ms/step - loss: 0.4605 - accuracy: 0.7429\n",
            "Epoch 23/50\n",
            "4/4 [==============================] - 0s 4ms/step - loss: 0.4432 - accuracy: 0.7619\n",
            "Epoch 24/50\n",
            "4/4 [==============================] - 0s 4ms/step - loss: 0.4283 - accuracy: 0.8000\n",
            "Epoch 25/50\n",
            "4/4 [==============================] - 0s 4ms/step - loss: 0.4126 - accuracy: 0.8476\n",
            "Epoch 26/50\n",
            "4/4 [==============================] - 0s 4ms/step - loss: 0.4000 - accuracy: 0.8190\n",
            "Epoch 27/50\n",
            "4/4 [==============================] - 0s 4ms/step - loss: 0.3882 - accuracy: 0.7810\n",
            "Epoch 28/50\n",
            "4/4 [==============================] - 0s 4ms/step - loss: 0.3758 - accuracy: 0.8190\n",
            "Epoch 29/50\n",
            "4/4 [==============================] - 0s 7ms/step - loss: 0.3636 - accuracy: 0.9143\n",
            "\n",
            "Akurasi telah mencapai >90%!\n"
          ]
        },
        {
          "output_type": "execute_result",
          "data": {
            "text/plain": [
              "<keras.callbacks.History at 0x7fd90b6a1110>"
            ]
          },
          "metadata": {},
          "execution_count": 17
        }
      ]
    }
  ]
}